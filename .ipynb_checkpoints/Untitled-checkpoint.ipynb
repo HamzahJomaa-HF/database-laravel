{
 "cells": [
  {
   "cell_type": "code",
   "execution_count": null,
   "id": "1c73eefe-c613-43fa-8547-b38a13d16111",
   "metadata": {},
   "outputs": [],
   "source": []
  }
 ],
 "metadata": {
  "kernelspec": {
   "display_name": "",
   "name": ""
  },
  "language_info": {
   "name": ""
  }
 },
 "nbformat": 4,
 "nbformat_minor": 5
}
