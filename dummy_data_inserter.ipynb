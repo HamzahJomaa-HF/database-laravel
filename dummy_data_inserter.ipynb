{
 "cells": [
  {
   "cell_type": "code",
   "execution_count": 1,
   "id": "1c73eefe-c613-43fa-8547-b38a13d16111",
   "metadata": {},
   "outputs": [
    {
     "name": "stdout",
     "output_type": "stream",
     "text": [
      "Collecting sqlalchemy\n",
      "  Downloading sqlalchemy-2.0.44-cp313-cp313-win_amd64.whl.metadata (9.8 kB)\n",
      "Collecting psycopg2-binary\n",
      "  Downloading psycopg2_binary-2.9.11-cp313-cp313-win_amd64.whl.metadata (5.1 kB)\n",
      "Collecting faker\n",
      "  Downloading faker-37.11.0-py3-none-any.whl.metadata (15 kB)\n",
      "Collecting greenlet>=1 (from sqlalchemy)\n",
      "  Downloading greenlet-3.2.4-cp313-cp313-win_amd64.whl.metadata (4.2 kB)\n",
      "Requirement already satisfied: typing-extensions>=4.6.0 in c:\\users\\ayaantar\\miniconda3\\lib\\site-packages (from sqlalchemy) (4.12.2)\n",
      "Collecting tzdata (from faker)\n",
      "  Using cached tzdata-2025.2-py2.py3-none-any.whl.metadata (1.4 kB)\n",
      "Downloading sqlalchemy-2.0.44-cp313-cp313-win_amd64.whl (2.1 MB)\n",
      "   ---------------------------------------- 0.0/2.1 MB ? eta -:--:--\n",
      "   ---------------------------------------- 0.0/2.1 MB ? eta -:--:--\n",
      "   ------------------- -------------------- 1.0/2.1 MB 5.2 MB/s eta 0:00:01\n",
      "   ---------------------------------------- 2.1/2.1 MB 5.6 MB/s eta 0:00:00\n",
      "Downloading psycopg2_binary-2.9.11-cp313-cp313-win_amd64.whl (2.7 MB)\n",
      "   ---------------------------------------- 0.0/2.7 MB ? eta -:--:--\n",
      "   ----------------------- ---------------- 1.6/2.7 MB 8.1 MB/s eta 0:00:01\n",
      "   ---------------------------------------- 2.7/2.7 MB 6.7 MB/s eta 0:00:00\n",
      "Downloading faker-37.11.0-py3-none-any.whl (2.0 MB)\n",
      "   ---------------------------------------- 0.0/2.0 MB ? eta -:--:--\n",
      "   --------------------- ------------------ 1.0/2.0 MB 12.2 MB/s eta 0:00:01\n",
      "   ------------------------------- -------- 1.6/2.0 MB 6.8 MB/s eta 0:00:01\n",
      "   ---------------------------------------- 2.0/2.0 MB 4.4 MB/s eta 0:00:00\n",
      "Downloading greenlet-3.2.4-cp313-cp313-win_amd64.whl (299 kB)\n",
      "Using cached tzdata-2025.2-py2.py3-none-any.whl (347 kB)\n",
      "Installing collected packages: tzdata, psycopg2-binary, greenlet, sqlalchemy, faker\n",
      "\n",
      "   ---------------------------------------- 0/5 [tzdata]\n",
      "   ------------------------ --------------- 3/5 [sqlalchemy]\n",
      "   ------------------------ --------------- 3/5 [sqlalchemy]\n",
      "   ------------------------ --------------- 3/5 [sqlalchemy]\n",
      "   ------------------------ --------------- 3/5 [sqlalchemy]\n",
      "   ------------------------ --------------- 3/5 [sqlalchemy]\n",
      "   ------------------------ --------------- 3/5 [sqlalchemy]\n",
      "   ------------------------ --------------- 3/5 [sqlalchemy]\n",
      "   ------------------------ --------------- 3/5 [sqlalchemy]\n",
      "   ------------------------ --------------- 3/5 [sqlalchemy]\n",
      "   ------------------------ --------------- 3/5 [sqlalchemy]\n",
      "   -------------------------------- ------- 4/5 [faker]\n",
      "   -------------------------------- ------- 4/5 [faker]\n",
      "   -------------------------------- ------- 4/5 [faker]\n",
      "   -------------------------------- ------- 4/5 [faker]\n",
      "   -------------------------------- ------- 4/5 [faker]\n",
      "   -------------------------------- ------- 4/5 [faker]\n",
      "   -------------------------------- ------- 4/5 [faker]\n",
      "   -------------------------------- ------- 4/5 [faker]\n",
      "   -------------------------------- ------- 4/5 [faker]\n",
      "   -------------------------------- ------- 4/5 [faker]\n",
      "   -------------------------------- ------- 4/5 [faker]\n",
      "   -------------------------------- ------- 4/5 [faker]\n",
      "   -------------------------------- ------- 4/5 [faker]\n",
      "   -------------------------------- ------- 4/5 [faker]\n",
      "   -------------------------------- ------- 4/5 [faker]\n",
      "   -------------------------------- ------- 4/5 [faker]\n",
      "   -------------------------------- ------- 4/5 [faker]\n",
      "   ---------------------------------------- 5/5 [faker]\n",
      "\n",
      "Successfully installed faker-37.11.0 greenlet-3.2.4 psycopg2-binary-2.9.11 sqlalchemy-2.0.44 tzdata-2025.2\n"
     ]
    }
   ],
   "source": [
    "!pip install sqlalchemy psycopg2-binary faker\n"
   ]
  },
  {
   "cell_type": "code",
   "execution_count": null,
   "id": "dad94d1a-1024-40c1-b79b-45a99a9dbf42",
   "metadata": {},
   "outputs": [],
   "source": []
  },
  {
   "cell_type": "code",
   "execution_count": null,
   "id": "055faffe-3819-4e3d-9822-0c77351b49cf",
   "metadata": {},
   "outputs": [],
   "source": []
  },
  {
   "cell_type": "code",
   "execution_count": 3,
   "id": "5e1d6a62-914a-465f-88d1-963a9fae6f3e",
   "metadata": {},
   "outputs": [],
   "source": [
    "from sqlalchemy import create_engine\n",
    "from faker import Faker\n",
    "\n",
    "# Load database info from Laravel .env\n",
    "db_user = 'admin'        # e.g., postgres\n",
    "db_password = 'admin'\n",
    "db_host = '127.0.0.1'\n",
    "db_port = '5432'                 # 3306 if MySQL\n",
    "db_name = 'hariri_db2'            # same as in .env\n",
    "\n",
    "# Connect to PostgreSQL\n",
    "engine = create_engine(f'postgresql+psycopg2://{db_user}:{db_password}@{db_host}:{db_port}/{db_name}')\n",
    "\n",
    "# If MySQL, use:\n",
    "# engine = create_engine(f'mysql+mysqlconnector://{db_user}:{db_password}@{db_host}:{db_port}/{db_name}')\n",
    "\n",
    "# Faker instance\n",
    "fake = Faker()\n"
   ]
  },
  {
   "cell_type": "code",
   "execution_count": null,
   "id": "c28099df-ec99-4fb8-a27c-a4cb8c97f76b",
   "metadata": {},
   "outputs": [],
   "source": []
  }
 ],
 "metadata": {
  "kernelspec": {
   "display_name": "Python 3 (ipykernel)",
   "language": "python",
   "name": "python3"
  },
  "language_info": {
   "codemirror_mode": {
    "name": "ipython",
    "version": 3
   },
   "file_extension": ".py",
   "mimetype": "text/x-python",
   "name": "python",
   "nbconvert_exporter": "python",
   "pygments_lexer": "ipython3",
   "version": "3.13.5"
  }
 },
 "nbformat": 4,
 "nbformat_minor": 5
}
